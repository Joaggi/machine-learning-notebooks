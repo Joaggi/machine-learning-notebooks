{
  "nbformat": 4,
  "nbformat_minor": 0,
  "metadata": {
    "colab": {
      "name": "MLDS2 Diplomado Machine Learning.ipynb",
      "provenance": [],
      "collapsed_sections": []
    },
    "kernelspec": {
      "name": "python3",
      "display_name": "Python 3"
    },
    "language_info": {
      "name": "python"
    }
  },
  "cells": [
    {
      "cell_type": "code",
      "metadata": {
        "id": "cCglG8LAXajC"
      },
      "source": [
        "import numpy as np\n",
        "from sklearn import datasets"
      ],
      "execution_count": null,
      "outputs": []
    },
    {
      "cell_type": "code",
      "metadata": {
        "id": "a6l_tfYycMCg"
      },
      "source": [
        "X, y = datasets.load_iris()['data'], datasets.load_iris()['target']"
      ],
      "execution_count": null,
      "outputs": []
    },
    {
      "cell_type": "code",
      "metadata": {
        "id": "poq0yRwwXe6W"
      },
      "source": [
        "X, y = datasets.load_iris(return_X_y=True)"
      ],
      "execution_count": null,
      "outputs": []
    },
    {
      "cell_type": "code",
      "metadata": {
        "id": "aW3KbtRtXkVz"
      },
      "source": [
        "from sklearn.neighbors import KNeighborsClassifier"
      ],
      "execution_count": null,
      "outputs": []
    },
    {
      "cell_type": "code",
      "metadata": {
        "colab": {
          "base_uri": "https://localhost:8080/"
        },
        "id": "bc20iZTCX01p",
        "outputId": "04f6328a-ee46-4cb0-f04e-f985fc7f1a24"
      },
      "source": [
        "knn = KNeighborsClassifier()\n",
        "knn.fit(X,y)\n",
        "\n"
      ],
      "execution_count": null,
      "outputs": [
        {
          "output_type": "execute_result",
          "data": {
            "text/plain": [
              "KNeighborsClassifier(algorithm='auto', leaf_size=30, metric='minkowski',\n",
              "                     metric_params=None, n_jobs=None, n_neighbors=5, p=2,\n",
              "                     weights='uniform')"
            ]
          },
          "metadata": {
            "tags": []
          },
          "execution_count": 37
        }
      ]
    },
    {
      "cell_type": "code",
      "metadata": {
        "id": "0kAwyVumX6IP"
      },
      "source": [
        "def predict(clf, X_prima):\n",
        "  return clf.predict(X_prima)"
      ],
      "execution_count": null,
      "outputs": []
    },
    {
      "cell_type": "code",
      "metadata": {
        "id": "I3aMEzxEYFRo"
      },
      "source": [
        "y_predict = predict(knn, X)"
      ],
      "execution_count": null,
      "outputs": []
    },
    {
      "cell_type": "code",
      "metadata": {
        "id": "jmvst57FaaGE"
      },
      "source": [
        "from sklearn import metrics"
      ],
      "execution_count": null,
      "outputs": []
    },
    {
      "cell_type": "code",
      "metadata": {
        "colab": {
          "base_uri": "https://localhost:8080/"
        },
        "id": "Eo5B-4VAagST",
        "outputId": "27c2f592-62a7-4bad-d132-599359279775"
      },
      "source": [
        "metrics.f1_score(y, y_predict, average=\"micro\")"
      ],
      "execution_count": null,
      "outputs": [
        {
          "output_type": "execute_result",
          "data": {
            "text/plain": [
              "0.9666666666666667"
            ]
          },
          "metadata": {
            "tags": []
          },
          "execution_count": 41
        }
      ]
    },
    {
      "cell_type": "code",
      "metadata": {
        "id": "XoDk-Z9mY0Vh"
      },
      "source": [
        "# Función para visualizar un conjunto de datos de dos variables en un plano 2D\n",
        "def plot_data(X, y, model = None, ax = None, title=None):\n",
        "\n",
        "    if ax is None:\n",
        "      _, ax = plt.subplots(dpi = 110)\n",
        "\n",
        "    if model is not None: \n",
        "      pred_fun = gen_pred_fun(model)\n",
        "      plot_decision_region(X, pred_fun, ax)\n",
        "\n",
        "    y_unique = np.unique(y)    \n",
        "    df = pd.DataFrame({'x1': X[:,0], 'x2': X[:,1], 'Clases': y})\n",
        "    sns.set_theme()\n",
        "    sns.scatterplot(data = df, x = 'x1', y = 'x2', \n",
        "                    hue = 'Clases',style = 'Clases', ax = ax, palette = 'Set1').set_title(title)"
      ],
      "execution_count": null,
      "outputs": []
    },
    {
      "cell_type": "code",
      "metadata": {
        "id": "2TWzAE2MYrQg"
      },
      "source": [
        "from sklearn import datasets\n",
        "\n",
        "X, y = datasets.make_moons(n_samples=10, noise=0, random_state=0)"
      ],
      "execution_count": null,
      "outputs": []
    },
    {
      "cell_type": "code",
      "metadata": {
        "colab": {
          "base_uri": "https://localhost:8080/"
        },
        "id": "rwxhvL5FY10s",
        "outputId": "e6dac4fa-621b-4810-dad0-2598865ced6b"
      },
      "source": [
        "X"
      ],
      "execution_count": null,
      "outputs": [
        {
          "output_type": "execute_result",
          "data": {
            "text/plain": [
              "array([[ 6.12323400e-17,  1.00000000e+00],\n",
              "       [ 1.70710678e+00, -2.07106781e-01],\n",
              "       [-1.00000000e+00,  1.22464680e-16],\n",
              "       [ 2.00000000e+00,  5.00000000e-01],\n",
              "       [ 7.07106781e-01,  7.07106781e-01],\n",
              "       [ 2.92893219e-01, -2.07106781e-01],\n",
              "       [ 1.00000000e+00, -5.00000000e-01],\n",
              "       [-7.07106781e-01,  7.07106781e-01],\n",
              "       [ 1.00000000e+00,  0.00000000e+00],\n",
              "       [ 0.00000000e+00,  5.00000000e-01]])"
            ]
          },
          "metadata": {
            "tags": []
          },
          "execution_count": 12
        }
      ]
    },
    {
      "cell_type": "code",
      "metadata": {
        "id": "su8_3PNmYryg"
      },
      "source": [
        "plot_data(X, y)"
      ],
      "execution_count": null,
      "outputs": []
    },
    {
      "cell_type": "code",
      "metadata": {
        "colab": {
          "base_uri": "https://localhost:8080/"
        },
        "id": "p8n_WEMyZCYw",
        "outputId": "e9fae7af-a042-458a-bcde-c9bc056bc8e6"
      },
      "source": [
        "arreglo = np.random.randint(low=0,high=3, size=[40])\n",
        "arreglo"
      ],
      "execution_count": null,
      "outputs": [
        {
          "output_type": "execute_result",
          "data": {
            "text/plain": [
              "array([0, 2, 0, 2, 1, 2, 2, 0, 0, 0, 1, 2, 0, 1, 0, 1, 1, 2, 0, 1, 1, 1,\n",
              "       1, 0, 2, 1, 2, 2, 0, 0, 2, 1, 0, 2, 1, 1, 0, 1, 1, 2])"
            ]
          },
          "metadata": {
            "tags": []
          },
          "execution_count": 26
        }
      ]
    },
    {
      "cell_type": "code",
      "metadata": {
        "colab": {
          "base_uri": "https://localhost:8080/"
        },
        "id": "Ojw5Zm8MZfm1",
        "outputId": "b6a4703a-d427-46fd-e020-f2baf677c758"
      },
      "source": [
        "arreglo==0"
      ],
      "execution_count": null,
      "outputs": [
        {
          "output_type": "execute_result",
          "data": {
            "text/plain": [
              "array([ True, False,  True, False, False, False, False,  True,  True,\n",
              "        True, False, False,  True, False,  True, False, False, False,\n",
              "        True, False, False, False, False,  True, False, False, False,\n",
              "       False,  True,  True, False, False,  True, False, False, False,\n",
              "        True, False, False, False])"
            ]
          },
          "metadata": {
            "tags": []
          },
          "execution_count": 27
        }
      ]
    },
    {
      "cell_type": "code",
      "metadata": {
        "colab": {
          "base_uri": "https://localhost:8080/"
        },
        "id": "3xcmwXcDZlCu",
        "outputId": "95268987-4789-4e0c-b23f-9d6ab9c84819"
      },
      "source": [
        "arreglo[(arreglo==0) | (arreglo==1)]"
      ],
      "execution_count": null,
      "outputs": [
        {
          "output_type": "execute_result",
          "data": {
            "text/plain": [
              "array([0, 0, 1, 0, 0, 0, 1, 0, 1, 0, 1, 1, 0, 1, 1, 1, 1, 0, 1, 0, 0, 1,\n",
              "       0, 1, 1, 0, 1, 1])"
            ]
          },
          "metadata": {
            "tags": []
          },
          "execution_count": 29
        }
      ]
    },
    {
      "cell_type": "code",
      "metadata": {
        "id": "lC83Ul5ddCBm"
      },
      "source": [
        "p = p, random_state = random_state"
      ],
      "execution_count": null,
      "outputs": []
    },
    {
      "cell_type": "code",
      "metadata": {
        "id": "bv0Zu-CHua__"
      },
      "source": [
        ""
      ],
      "execution_count": null,
      "outputs": []
    }
  ]
}