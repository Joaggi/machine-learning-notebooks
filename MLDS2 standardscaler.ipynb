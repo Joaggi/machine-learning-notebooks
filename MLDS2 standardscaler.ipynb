{
  "nbformat": 4,
  "nbformat_minor": 0,
  "metadata": {
    "colab": {
      "name": "MLDS2 - standardscaler .ipynb",
      "provenance": [],
      "collapsed_sections": []
    },
    "kernelspec": {
      "name": "python3",
      "display_name": "Python 3"
    }
  },
  "cells": [
    {
      "cell_type": "code",
      "metadata": {
        "id": "xVuh2u16Fypg"
      },
      "source": [
        "import numpy as np"
      ],
      "execution_count": null,
      "outputs": []
    },
    {
      "cell_type": "code",
      "metadata": {
        "id": "_HqKsyqrF_oW"
      },
      "source": [
        "valores = np.random.uniform(low=0, high = 100, size=[20])\n",
        "valores = np.concatenate([valores, [10000,-10000, 3000000]])"
      ],
      "execution_count": null,
      "outputs": []
    },
    {
      "cell_type": "code",
      "metadata": {
        "id": "W55-SDh6GLO2",
        "colab": {
          "base_uri": "https://localhost:8080/",
          "height": 347
        },
        "outputId": "67bf7a4b-9359-4317-f7e9-d86608a3046f"
      },
      "source": [
        "import matplotlib.pyplot as plt\n",
        "plt.hist(valores)"
      ],
      "execution_count": null,
      "outputs": [
        {
          "output_type": "execute_result",
          "data": {
            "text/plain": [
              "(array([22.,  0.,  0.,  0.,  0.,  0.,  0.,  0.,  0.,  1.]),\n",
              " array([ -10000.,  291000.,  592000.,  893000., 1194000., 1495000.,\n",
              "        1796000., 2097000., 2398000., 2699000., 3000000.]),\n",
              " <a list of 10 Patch objects>)"
            ]
          },
          "metadata": {
            "tags": []
          },
          "execution_count": 70
        },
        {
          "output_type": "display_data",
          "data": {
            "image/png": "[encoded data removed]",
            "text/plain": [
              "<Figure size 432x288 with 1 Axes>"
            ]
          },
          "metadata": {
            "tags": [],
            "needs_background": "light"
          }
        }
      ]
    },
    {
      "cell_type": "code",
      "metadata": {
        "id": "xvCFRW7rGaD0"
      },
      "source": [
        "from  sklearn.preprocessing import StandardScaler"
      ],
      "execution_count": null,
      "outputs": []
    },
    {
      "cell_type": "code",
      "metadata": {
        "id": "HxJH4tmnGe-j"
      },
      "source": [
        "sc = StandardScaler()\n",
        "valores_estandarizados = sc.fit_transform(valores[:, np.newaxis])"
      ],
      "execution_count": null,
      "outputs": []
    },
    {
      "cell_type": "code",
      "metadata": {
        "id": "03Z3ugmEHzqo",
        "colab": {
          "base_uri": "https://localhost:8080/",
          "height": 416
        },
        "outputId": "7fc2aab5-3f87-4f23-e02b-67d654a48b0e"
      },
      "source": [
        "valores_estandarizados"
      ],
      "execution_count": null,
      "outputs": [
        {
          "output_type": "execute_result",
          "data": {
            "text/plain": [
              "array([[-0.21324739],\n",
              "       [-0.21326019],\n",
              "       [-0.21319665],\n",
              "       [-0.21314589],\n",
              "       [-0.21314884],\n",
              "       [-0.21322471],\n",
              "       [-0.21319943],\n",
              "       [-0.21324123],\n",
              "       [-0.21310981],\n",
              "       [-0.21322063],\n",
              "       [-0.21311867],\n",
              "       [-0.21321931],\n",
              "       [-0.21316002],\n",
              "       [-0.21323932],\n",
              "       [-0.21322585],\n",
              "       [-0.21319132],\n",
              "       [-0.21312734],\n",
              "       [-0.21316021],\n",
              "       [-0.21319975],\n",
              "       [-0.21319942],\n",
              "       [-0.19691722],\n",
              "       [-0.22960805],\n",
              "       [ 4.69036127]])"
            ]
          },
          "metadata": {
            "tags": []
          },
          "execution_count": 73
        }
      ]
    },
    {
      "cell_type": "code",
      "metadata": {
        "id": "_cRjP9KbGore",
        "colab": {
          "base_uri": "https://localhost:8080/",
          "height": 352
        },
        "outputId": "8a34fd59-5c0c-4e71-bdd2-5361ebba3c8e"
      },
      "source": [
        "plt.hist(valores_estandarizados)"
      ],
      "execution_count": null,
      "outputs": [
        {
          "output_type": "execute_result",
          "data": {
            "text/plain": [
              "(array([22.,  0.,  0.,  0.,  0.,  0.,  0.,  0.,  0.,  1.]),\n",
              " array([-0.22960805,  0.26238889,  0.75438582,  1.24638275,  1.73837968,\n",
              "         2.23037661,  2.72237354,  3.21437048,  3.70636741,  4.19836434,\n",
              "         4.69036127]),\n",
              " <a list of 10 Patch objects>)"
            ]
          },
          "metadata": {
            "tags": []
          },
          "execution_count": 74
        },
        {
          "output_type": "display_data",
          "data": {
            "image/png": "[encoded data removed]",
            "text/plain": [
              "<Figure size 432x288 with 1 Axes>"
            ]
          },
          "metadata": {
            "tags": [],
            "needs_background": "light"
          }
        }
      ]
    },
    {
      "cell_type": "code",
      "metadata": {
        "id": "NIJQhH7VHTXe",
        "colab": {
          "base_uri": "https://localhost:8080/",
          "height": 317
        },
        "outputId": "ab138a66-08a4-49d5-90ea-3969bec90675"
      },
      "source": [
        "from  sklearn.preprocessing import MinMaxScaler\n",
        "mms = MinMaxScaler()\n",
        "valores_estandarizados = mms.fit_transform(valores[:, np.newaxis])\n",
        "plt.hist(valores_estandarizados)"
      ],
      "execution_count": null,
      "outputs": [
        {
          "output_type": "execute_result",
          "data": {
            "text/plain": [
              "(array([22.,  0.,  0.,  0.,  0.,  0.,  0.,  0.,  0.,  1.]),\n",
              " array([0. , 0.1, 0.2, 0.3, 0.4, 0.5, 0.6, 0.7, 0.8, 0.9, 1. ]),\n",
              " <a list of 10 Patch objects>)"
            ]
          },
          "metadata": {
            "tags": []
          },
          "execution_count": 75
        },
        {
          "output_type": "display_data",
          "data": {
            "image/png": "[encoded data removed]",
            "text/plain": [
              "<Figure size 432x288 with 1 Axes>"
            ]
          },
          "metadata": {
            "tags": [],
            "needs_background": "light"
          }
        }
      ]
    },
    {
      "cell_type": "code",
      "metadata": {
        "id": "4-qbUC1_H2Ed",
        "colab": {
          "base_uri": "https://localhost:8080/",
          "height": 416
        },
        "outputId": "e1062c6e-9419-4be5-98e1-532b40225909"
      },
      "source": [
        "valores_estandarizados"
      ],
      "execution_count": null,
      "outputs": [
        {
          "output_type": "execute_result",
          "data": {
            "text/plain": [
              "array([[0.00332644],\n",
              "       [0.00334802],\n",
              "       [0.00334518],\n",
              "       [0.00334396],\n",
              "       [0.00333401],\n",
              "       [0.00335342],\n",
              "       [0.00334555],\n",
              "       [0.00334186],\n",
              "       [0.00334239],\n",
              "       [0.00334866],\n",
              "       [0.00333134],\n",
              "       [0.00332939],\n",
              "       [0.00335227],\n",
              "       [0.00335364],\n",
              "       [0.00333614],\n",
              "       [0.00334587],\n",
              "       [0.0033289 ],\n",
              "       [0.0033372 ],\n",
              "       [0.00333192],\n",
              "       [0.00334454],\n",
              "       [0.00664452],\n",
              "       [0.        ],\n",
              "       [1.        ]])"
            ]
          },
          "metadata": {
            "tags": []
          },
          "execution_count": 67
        }
      ]
    },
    {
      "cell_type": "code",
      "metadata": {
        "id": "5QYHTuE8fznu",
        "colab": {
          "base_uri": "https://localhost:8080/",
          "height": 34
        },
        "outputId": "f0c032ae-47c5-4e96-ba79-1a47c4dfcff8"
      },
      "source": [
        "[2,5,6,13]"
      ],
      "execution_count": null,
      "outputs": [
        {
          "output_type": "execute_result",
          "data": {
            "text/plain": [
              "[2, 5, 6, 13]"
            ]
          },
          "metadata": {
            "tags": []
          },
          "execution_count": 76
        }
      ]
    },
    {
      "cell_type": "code",
      "metadata": {
        "id": "DFULTxgif3rJ"
      },
      "source": [
        "import numpy as np"
      ],
      "execution_count": null,
      "outputs": []
    },
    {
      "cell_type": "code",
      "metadata": {
        "id": "0wXcZ3NMf5JN",
        "colab": {
          "base_uri": "https://localhost:8080/",
          "height": 34
        },
        "outputId": "3c5eede4-8f44-4087-c8df-5430a984eb2c"
      },
      "source": [
        "np.array([2,5,6,13])"
      ],
      "execution_count": null,
      "outputs": [
        {
          "output_type": "execute_result",
          "data": {
            "text/plain": [
              "array([ 2,  5,  6, 13])"
            ]
          },
          "metadata": {
            "tags": []
          },
          "execution_count": 78
        }
      ]
    },
    {
      "cell_type": "code",
      "metadata": {
        "id": "KFsrbYy1gAxH"
      },
      "source": [
        "import pandas as pd"
      ],
      "execution_count": null,
      "outputs": []
    },
    {
      "cell_type": "code",
      "metadata": {
        "id": "-sOgWRvNgEN1",
        "colab": {
          "base_uri": "https://localhost:8080/",
          "height": 104
        },
        "outputId": "7475f170-d836-4f3e-c48b-8fc2ba24ab29"
      },
      "source": [
        "pd.Series([2,5,6,13])"
      ],
      "execution_count": null,
      "outputs": [
        {
          "output_type": "execute_result",
          "data": {
            "text/plain": [
              "0     2\n",
              "1     5\n",
              "2     6\n",
              "3    13\n",
              "dtype: int64"
            ]
          },
          "metadata": {
            "tags": []
          },
          "execution_count": 81
        }
      ]
    },
    {
      "cell_type": "code",
      "metadata": {
        "id": "ljRx6Nk9gLth",
        "colab": {
          "base_uri": "https://localhost:8080/",
          "height": 112
        },
        "outputId": "c3cb58b9-992f-4246-bd4c-ca90e273471e"
      },
      "source": [
        "pd.DataFrame([pd.Series([2,5,6,13]),pd.Series([2,5,6,13])])"
      ],
      "execution_count": null,
      "outputs": [
        {
          "output_type": "execute_result",
          "data": {
            "text/html": [
              "<div>\n",
              "<style scoped>\n",
              "    .dataframe tbody tr th:only-of-type {\n",
              "        vertical-align: middle;\n",
              "    }\n",
              "\n",
              "    .dataframe tbody tr th {\n",
              "        vertical-align: top;\n",
              "    }\n",
              "\n",
              "    .dataframe thead th {\n",
              "        text-align: right;\n",
              "    }\n",
              "</style>\n",
              "<table border=\"1\" class=\"dataframe\">\n",
              "  <thead>\n",
              "    <tr style=\"text-align: right;\">\n",
              "      <th></th>\n",
              "      <th>0</th>\n",
              "      <th>1</th>\n",
              "      <th>2</th>\n",
              "      <th>3</th>\n",
              "    </tr>\n",
              "  </thead>\n",
              "  <tbody>\n",
              "    <tr>\n",
              "      <th>0</th>\n",
              "      <td>2</td>\n",
              "      <td>5</td>\n",
              "      <td>6</td>\n",
              "      <td>13</td>\n",
              "    </tr>\n",
              "    <tr>\n",
              "      <th>1</th>\n",
              "      <td>2</td>\n",
              "      <td>5</td>\n",
              "      <td>6</td>\n",
              "      <td>13</td>\n",
              "    </tr>\n",
              "  </tbody>\n",
              "</table>\n",
              "</div>"
            ],
            "text/plain": [
              "   0  1  2   3\n",
              "0  2  5  6  13\n",
              "1  2  5  6  13"
            ]
          },
          "metadata": {
            "tags": []
          },
          "execution_count": 82
        }
      ]
    },
    {
      "cell_type": "code",
      "metadata": {
        "id": "uHUjHIR0hu2W"
      },
      "source": [
        "y_pred = np.array([1,0,3,0,2,0,1,2,3])[:, np.newaxis]"
      ],
      "execution_count": null,
      "outputs": []
    },
    {
      "cell_type": "code",
      "metadata": {
        "id": "yWT-LefCiEp6"
      },
      "source": [
        "y_true = np.array([1,0,1,0,0,0,1,1,0])[:, np.newaxis]"
      ],
      "execution_count": null,
      "outputs": []
    },
    {
      "cell_type": "code",
      "metadata": {
        "id": "yZOkCp2IiCcB",
        "colab": {
          "base_uri": "https://localhost:8080/",
          "height": 34
        },
        "outputId": "2ffadc45-d418-4cb4-b84e-a82a753aed30"
      },
      "source": [
        "y_true[y_pred==3]"
      ],
      "execution_count": null,
      "outputs": [
        {
          "output_type": "execute_result",
          "data": {
            "text/plain": [
              "array([1, 0])"
            ]
          },
          "metadata": {
            "tags": []
          },
          "execution_count": 88
        }
      ]
    }
  ]
}